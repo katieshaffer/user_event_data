{
  "nbformat": 4,
  "nbformat_minor": 0,
  "metadata": {
    "colab": {
      "provenance": [],
      "authorship_tag": "ABX9TyM2/gLJpLvRqXknyTksK0nm",
      "include_colab_link": true
    },
    "kernelspec": {
      "name": "python3",
      "display_name": "Python 3"
    },
    "language_info": {
      "name": "python"
    }
  },
  "cells": [
    {
      "cell_type": "markdown",
      "metadata": {
        "id": "view-in-github",
        "colab_type": "text"
      },
      "source": [
        "<a href=\"https://colab.research.google.com/github/katieshaffer/user_event_data/blob/main/CompanyCam_Katie_Shaffer.ipynb\" target=\"_parent\"><img src=\"https://colab.research.google.com/assets/colab-badge.svg\" alt=\"Open In Colab\"/></a>"
      ]
    },
    {
      "cell_type": "markdown",
      "source": [
        "# Setup and load the data"
      ],
      "metadata": {
        "id": "fYaK7OUm7UiV"
      }
    },
    {
      "cell_type": "code",
      "execution_count": 87,
      "metadata": {
        "id": "1VWNThhTL_mi"
      },
      "outputs": [],
      "source": [
        "# Import pandas and sqlite\n",
        "import pandas as pd\n",
        "import sqlite3 as sqlite"
      ]
    },
    {
      "cell_type": "code",
      "source": [
        "# Load the prettytable module for making charts\n",
        "!pip install prettytable==0.7.2\n",
        "from prettytable import PrettyTable\n",
        "\n",
        "# Import matplotlib package to make charts\n",
        "import matplotlib.pyplot as plt"
      ],
      "metadata": {
        "id": "Xfc6cK-8SFBv",
        "colab": {
          "base_uri": "https://localhost:8080/"
        },
        "outputId": "d9ebc26b-73c4-406e-8bc6-13f2c7121fc3"
      },
      "execution_count": 88,
      "outputs": [
        {
          "output_type": "stream",
          "name": "stdout",
          "text": [
            "Requirement already satisfied: prettytable==0.7.2 in /usr/local/lib/python3.11/dist-packages (0.7.2)\n"
          ]
        }
      ]
    },
    {
      "cell_type": "code",
      "source": [
        "## Connect to GitHub repo with CSV files\n",
        "!git clone https://github.com/katieshaffer/user_event_data"
      ],
      "metadata": {
        "colab": {
          "base_uri": "https://localhost:8080/"
        },
        "id": "fZEcJ4g2MgA3",
        "outputId": "21cbc6a3-cb08-48e4-e53a-6967ec3d58f0"
      },
      "execution_count": 89,
      "outputs": [
        {
          "output_type": "stream",
          "name": "stdout",
          "text": [
            "fatal: destination path 'user_event_data' already exists and is not an empty directory.\n"
          ]
        }
      ]
    },
    {
      "cell_type": "code",
      "source": [
        "# Save CSVs as dataframes for later use\n",
        "\n",
        "df_events = pd.read_csv('/content/user_event_data/assignment/dataset/event_data.csv')\n",
        "df_subscriptions = pd.read_csv('/content/user_event_data/assignment/dataset/subscription_data.csv')\n",
        "df_users = pd.read_csv('/content/user_event_data/assignment/dataset/user_data.csv')"
      ],
      "metadata": {
        "id": "JL6BNLATSlFN"
      },
      "execution_count": 90,
      "outputs": []
    },
    {
      "cell_type": "code",
      "source": [
        "# Load dataframes into SQLite database for querting\n",
        "\n",
        "sql_data = 'D:\\dataset.sqlite'\n",
        "conn = sqlite.connect(sql_data)\n",
        "\n",
        "df_events.to_sql('events', conn, if_exists='replace', index=False)\n",
        "df_users.to_sql('users', conn, if_exists='replace', index=False)\n",
        "df_subscriptions.to_sql('subscriptions', conn, if_exists='replace', index=False)"
      ],
      "metadata": {
        "id": "csZdh9cw3mvq",
        "colab": {
          "base_uri": "https://localhost:8080/"
        },
        "outputId": "9fb41db6-9a46-4d79-b2c6-97ee6496ff94"
      },
      "execution_count": 91,
      "outputs": [
        {
          "output_type": "execute_result",
          "data": {
            "text/plain": [
              "146"
            ]
          },
          "metadata": {},
          "execution_count": 91
        }
      ]
    },
    {
      "cell_type": "code",
      "source": [
        "# Set up so SQL queries can be run in notebook\n",
        "%load_ext sql\n",
        "%sql sqlite:///D:\\dataset.sqlite"
      ],
      "metadata": {
        "id": "HYXme2K7Skc_",
        "colab": {
          "base_uri": "https://localhost:8080/"
        },
        "outputId": "fc02a632-5e8b-4f12-b677-429da0dfe4f7"
      },
      "execution_count": 92,
      "outputs": [
        {
          "output_type": "stream",
          "name": "stdout",
          "text": [
            "The sql extension is already loaded. To reload it, use:\n",
            "  %reload_ext sql\n"
          ]
        }
      ]
    },
    {
      "cell_type": "markdown",
      "source": [
        "# Exploration of user data"
      ],
      "metadata": {
        "id": "NeoMLIKk7OV2"
      }
    },
    {
      "cell_type": "code",
      "source": [
        "## How many users are there?\n",
        "%%sql\n",
        "\n",
        "SELECT COUNT(DISTINCT user_id) AS num_users\n",
        "FROM users\n",
        ";"
      ],
      "metadata": {
        "colab": {
          "base_uri": "https://localhost:8080/",
          "height": 95
        },
        "id": "tXEAk9Hd3tlq",
        "outputId": "bc60241c-a3d6-42bf-eca4-a4ae132b9d38"
      },
      "execution_count": 93,
      "outputs": [
        {
          "output_type": "stream",
          "name": "stdout",
          "text": [
            " * sqlite:///D:\\dataset.sqlite\n",
            "Done.\n"
          ]
        },
        {
          "output_type": "execute_result",
          "data": {
            "text/plain": [
              "[(500,)]"
            ],
            "text/html": [
              "<table>\n",
              "    <tr>\n",
              "        <th>num_users</th>\n",
              "    </tr>\n",
              "    <tr>\n",
              "        <td>500</td>\n",
              "    </tr>\n",
              "</table>"
            ]
          },
          "metadata": {},
          "execution_count": 93
        }
      ]
    },
    {
      "cell_type": "markdown",
      "source": [
        "There are 500 total users."
      ],
      "metadata": {
        "id": "eczmKOt88Krj"
      }
    },
    {
      "cell_type": "code",
      "source": [
        "## How many of each type?\n",
        "%%sql\n",
        "\n",
        "SELECT user_type,\n",
        "       COUNT(DISTINCT user_id) AS num_users\n",
        "FROM users\n",
        "GROUP BY user_type\n",
        ";"
      ],
      "metadata": {
        "colab": {
          "base_uri": "https://localhost:8080/",
          "height": 116
        },
        "id": "8NLhIO1x7N4B",
        "outputId": "e3cd5a56-d22d-4d85-8787-b5cb39397920"
      },
      "execution_count": 94,
      "outputs": [
        {
          "output_type": "stream",
          "name": "stdout",
          "text": [
            " * sqlite:///D:\\dataset.sqlite\n",
            "Done.\n"
          ]
        },
        {
          "output_type": "execute_result",
          "data": {
            "text/plain": [
              "[('Free', 354), ('Paid', 146)]"
            ],
            "text/html": [
              "<table>\n",
              "    <tr>\n",
              "        <th>user_type</th>\n",
              "        <th>num_users</th>\n",
              "    </tr>\n",
              "    <tr>\n",
              "        <td>Free</td>\n",
              "        <td>354</td>\n",
              "    </tr>\n",
              "    <tr>\n",
              "        <td>Paid</td>\n",
              "        <td>146</td>\n",
              "    </tr>\n",
              "</table>"
            ]
          },
          "metadata": {},
          "execution_count": 94
        }
      ]
    },
    {
      "cell_type": "markdown",
      "source": [
        "Most of users (71%) are free users.\n",
        "\n",
        "Assumption: Every user starts with a Free account and, if they update to Paid, we would update their `user_type` accordingly on the existing `user` record. As opposed to making a new row as a new \"user\" in that situation. So, assuming that Paid means they signed up after the free trial and Free means they did not (at least not yet)."
      ],
      "metadata": {
        "id": "T2ejjRZ38svK"
      }
    },
    {
      "cell_type": "code",
      "source": [
        "## When did users signup?\n",
        "%%sql\n",
        "\n",
        "SELECT DATE(signup_date, 'start of month') as signup_month,\n",
        "       COUNT(DISTINCT user_id) AS num_users\n",
        "FROM users\n",
        "GROUP BY signup_month\n",
        "ORDER BY signup_month\n",
        ";"
      ],
      "metadata": {
        "colab": {
          "base_uri": "https://localhost:8080/",
          "height": 200
        },
        "id": "lKCjG-GL88DE",
        "outputId": "ab57230d-246c-4395-fe57-0af5777cb4bf"
      },
      "execution_count": 95,
      "outputs": [
        {
          "output_type": "stream",
          "name": "stdout",
          "text": [
            " * sqlite:///D:\\dataset.sqlite\n",
            "Done.\n"
          ]
        },
        {
          "output_type": "execute_result",
          "data": {
            "text/plain": [
              "[('2023-06-01', 80),\n",
              " ('2023-07-01', 88),\n",
              " ('2023-08-01', 71),\n",
              " ('2023-09-01', 89),\n",
              " ('2023-10-01', 102),\n",
              " ('2023-11-01', 70)]"
            ],
            "text/html": [
              "<table>\n",
              "    <tr>\n",
              "        <th>signup_month</th>\n",
              "        <th>num_users</th>\n",
              "    </tr>\n",
              "    <tr>\n",
              "        <td>2023-06-01</td>\n",
              "        <td>80</td>\n",
              "    </tr>\n",
              "    <tr>\n",
              "        <td>2023-07-01</td>\n",
              "        <td>88</td>\n",
              "    </tr>\n",
              "    <tr>\n",
              "        <td>2023-08-01</td>\n",
              "        <td>71</td>\n",
              "    </tr>\n",
              "    <tr>\n",
              "        <td>2023-09-01</td>\n",
              "        <td>89</td>\n",
              "    </tr>\n",
              "    <tr>\n",
              "        <td>2023-10-01</td>\n",
              "        <td>102</td>\n",
              "    </tr>\n",
              "    <tr>\n",
              "        <td>2023-11-01</td>\n",
              "        <td>70</td>\n",
              "    </tr>\n",
              "</table>"
            ]
          },
          "metadata": {},
          "execution_count": 95
        }
      ]
    },
    {
      "cell_type": "markdown",
      "source": [
        "A bit of an uptick in signups in September/October. Were they mostly paid or free?"
      ],
      "metadata": {
        "id": "-ZtkyNwuL2eu"
      }
    },
    {
      "cell_type": "code",
      "source": [
        "## How many users by type signed up each month?\n",
        "%%sql\n",
        "\n",
        "SELECT DATE(signup_date, 'start of month') as signup_month,\n",
        "       SUM(CASE WHEN user_type = 'Free' THEN 1 ELSE 0 END) AS num_free_users,\n",
        "       SUM(CASE WHEN user_type = 'Paid' THEN 1 ELSE 0 END) AS num_paid_users,\n",
        "       COUNT(DISTINCT user_id) AS num_users\n",
        "FROM users\n",
        "GROUP BY signup_month\n",
        "ORDER BY signup_month\n",
        ";"
      ],
      "metadata": {
        "colab": {
          "base_uri": "https://localhost:8080/",
          "height": 200
        },
        "id": "ZBRzeTe3jAPO",
        "outputId": "f25b4b39-c065-4470-b5eb-0964c0124cda"
      },
      "execution_count": 96,
      "outputs": [
        {
          "output_type": "stream",
          "name": "stdout",
          "text": [
            " * sqlite:///D:\\dataset.sqlite\n",
            "Done.\n"
          ]
        },
        {
          "output_type": "execute_result",
          "data": {
            "text/plain": [
              "[('2023-06-01', 48, 32, 80),\n",
              " ('2023-07-01', 59, 29, 88),\n",
              " ('2023-08-01', 49, 22, 71),\n",
              " ('2023-09-01', 68, 21, 89),\n",
              " ('2023-10-01', 76, 26, 102),\n",
              " ('2023-11-01', 54, 16, 70)]"
            ],
            "text/html": [
              "<table>\n",
              "    <tr>\n",
              "        <th>signup_month</th>\n",
              "        <th>num_free_users</th>\n",
              "        <th>num_paid_users</th>\n",
              "        <th>num_users</th>\n",
              "    </tr>\n",
              "    <tr>\n",
              "        <td>2023-06-01</td>\n",
              "        <td>48</td>\n",
              "        <td>32</td>\n",
              "        <td>80</td>\n",
              "    </tr>\n",
              "    <tr>\n",
              "        <td>2023-07-01</td>\n",
              "        <td>59</td>\n",
              "        <td>29</td>\n",
              "        <td>88</td>\n",
              "    </tr>\n",
              "    <tr>\n",
              "        <td>2023-08-01</td>\n",
              "        <td>49</td>\n",
              "        <td>22</td>\n",
              "        <td>71</td>\n",
              "    </tr>\n",
              "    <tr>\n",
              "        <td>2023-09-01</td>\n",
              "        <td>68</td>\n",
              "        <td>21</td>\n",
              "        <td>89</td>\n",
              "    </tr>\n",
              "    <tr>\n",
              "        <td>2023-10-01</td>\n",
              "        <td>76</td>\n",
              "        <td>26</td>\n",
              "        <td>102</td>\n",
              "    </tr>\n",
              "    <tr>\n",
              "        <td>2023-11-01</td>\n",
              "        <td>54</td>\n",
              "        <td>16</td>\n",
              "        <td>70</td>\n",
              "    </tr>\n",
              "</table>"
            ]
          },
          "metadata": {},
          "execution_count": 96
        }
      ]
    },
    {
      "cell_type": "markdown",
      "source": [
        "I want to make a chart to see the changes over time by `user_type` more clearly."
      ],
      "metadata": {
        "id": "nSVygxJAqcw5"
      }
    },
    {
      "cell_type": "code",
      "source": [
        "# Change `signup_date` in dataframe to a date and truncate to the month (equivalent to `DATE_TRUNC` in SQL)\n",
        "df_users['signup_month'] = pd.to_datetime(df_users.signup_date.values.astype('datetime64[M]'))\n",
        "\n",
        "my_pivot = df_users.pivot_table(values='user_id', index=['signup_month'], columns='user_type', aggfunc='count')\n",
        "my_pivot.plot.line()\n",
        "plt.tight_layout()\n",
        "plt.title(\"How many new signups were there each month by type?\")\n",
        "plt.xlabel(\"Month\")\n",
        "plt.ylabel(\"Number of Signups\")\n",
        "plt.legend()\n",
        "plt.show()"
      ],
      "metadata": {
        "colab": {
          "base_uri": "https://localhost:8080/",
          "height": 509
        },
        "id": "l6Z18ZmUouiB",
        "outputId": "b448b19b-e64f-4141-9621-9345b51af892"
      },
      "execution_count": 97,
      "outputs": [
        {
          "output_type": "display_data",
          "data": {
            "text/plain": [
              "<Figure size 640x480 with 1 Axes>"
            ],
            "image/png": "[encoded data removed]"
          },
          "metadata": {}
        }
      ]
    },
    {
      "cell_type": "markdown",
      "source": [
        "The increase in September and October was driven by Free signups. Paid signups have been trending down overall, while Free are trending up.\n",
        "\n",
        "If my assumptions are correct, then conversion rate would be the number of signups who are now listed as `Paid` divided by the total number of signups for that timeframe. Then, the finding that (a) most users are free users, (b) paid users are decreasing, and (c) free users are increasing should mean that conversion is also decreasing."
      ],
      "metadata": {
        "id": "UzwCaENLqkrZ"
      }
    },
    {
      "cell_type": "code",
      "source": [
        "%%sql\n",
        "\n",
        "with signups as (\n",
        "  SELECT DATE(signup_date, 'start of month') as signup_month,\n",
        "        sum(case when user_type = 'Free' then 1 else 0 end) as free_signups,\n",
        "        sum(case when user_type = 'Paid' then 1 else 0 end) as paid_signups,\n",
        "        count(distinct user_id) as total_signups\n",
        "  FROM users\n",
        "  GROUP BY signup_month\n",
        ")\n",
        "\n",
        "select signup_month,\n",
        "       paid_signups,\n",
        "       free_signups,\n",
        "       total_signups,\n",
        "       ROUND(CAST(free_signups AS REAL) / CAST(total_signups AS REAL),2) as pct_churned_signups,\n",
        "       ROUND(CAST(paid_signups AS REAL) / CAST(total_signups AS REAL),2) as pct_converted_signups\n",
        "from signups\n",
        "group by signup_month\n",
        "order by signup_month\n",
        ";"
      ],
      "metadata": {
        "colab": {
          "base_uri": "https://localhost:8080/",
          "height": 200
        },
        "id": "6CRhvtpJrH2s",
        "outputId": "92ef764f-713a-4796-896f-73f7f145881a"
      },
      "execution_count": 98,
      "outputs": [
        {
          "output_type": "stream",
          "name": "stdout",
          "text": [
            " * sqlite:///D:\\dataset.sqlite\n",
            "Done.\n"
          ]
        },
        {
          "output_type": "execute_result",
          "data": {
            "text/plain": [
              "[('2023-06-01', 32, 48, 80, 0.6, 0.4),\n",
              " ('2023-07-01', 29, 59, 88, 0.67, 0.33),\n",
              " ('2023-08-01', 22, 49, 71, 0.69, 0.31),\n",
              " ('2023-09-01', 21, 68, 89, 0.76, 0.24),\n",
              " ('2023-10-01', 26, 76, 102, 0.75, 0.25),\n",
              " ('2023-11-01', 16, 54, 70, 0.77, 0.23)]"
            ],
            "text/html": [
              "<table>\n",
              "    <tr>\n",
              "        <th>signup_month</th>\n",
              "        <th>paid_signups</th>\n",
              "        <th>free_signups</th>\n",
              "        <th>total_signups</th>\n",
              "        <th>pct_churned_signups</th>\n",
              "        <th>pct_converted_signups</th>\n",
              "    </tr>\n",
              "    <tr>\n",
              "        <td>2023-06-01</td>\n",
              "        <td>32</td>\n",
              "        <td>48</td>\n",
              "        <td>80</td>\n",
              "        <td>0.6</td>\n",
              "        <td>0.4</td>\n",
              "    </tr>\n",
              "    <tr>\n",
              "        <td>2023-07-01</td>\n",
              "        <td>29</td>\n",
              "        <td>59</td>\n",
              "        <td>88</td>\n",
              "        <td>0.67</td>\n",
              "        <td>0.33</td>\n",
              "    </tr>\n",
              "    <tr>\n",
              "        <td>2023-08-01</td>\n",
              "        <td>22</td>\n",
              "        <td>49</td>\n",
              "        <td>71</td>\n",
              "        <td>0.69</td>\n",
              "        <td>0.31</td>\n",
              "    </tr>\n",
              "    <tr>\n",
              "        <td>2023-09-01</td>\n",
              "        <td>21</td>\n",
              "        <td>68</td>\n",
              "        <td>89</td>\n",
              "        <td>0.76</td>\n",
              "        <td>0.24</td>\n",
              "    </tr>\n",
              "    <tr>\n",
              "        <td>2023-10-01</td>\n",
              "        <td>26</td>\n",
              "        <td>76</td>\n",
              "        <td>102</td>\n",
              "        <td>0.75</td>\n",
              "        <td>0.25</td>\n",
              "    </tr>\n",
              "    <tr>\n",
              "        <td>2023-11-01</td>\n",
              "        <td>16</td>\n",
              "        <td>54</td>\n",
              "        <td>70</td>\n",
              "        <td>0.77</td>\n",
              "        <td>0.23</td>\n",
              "    </tr>\n",
              "</table>"
            ]
          },
          "metadata": {},
          "execution_count": 98
        }
      ]
    },
    {
      "cell_type": "markdown",
      "source": [
        "Confirmed that conversoin rate has been decreasing each month.\n",
        "\n"
      ],
      "metadata": {
        "id": "ft2xLYiJxon1"
      }
    },
    {
      "cell_type": "markdown",
      "source": [
        "## Exploraton of subscription data"
      ],
      "metadata": {
        "id": "1G1Wqz6GNm4J"
      }
    },
    {
      "cell_type": "code",
      "source": [
        "## How many subscriptions are there?\n",
        "%%sql\n",
        "SELECT plan_type,\n",
        "       COUNT(DISTINCT subscription_id) as num_subscriptions\n",
        "FROM subscriptions\n",
        "GROUP BY plan_type\n",
        ";"
      ],
      "metadata": {
        "colab": {
          "base_uri": "https://localhost:8080/",
          "height": 95
        },
        "id": "ghdxwHOf_9wM",
        "outputId": "dc6d2682-8f84-4bfb-c14a-5d5212467df6"
      },
      "execution_count": 99,
      "outputs": [
        {
          "output_type": "stream",
          "name": "stdout",
          "text": [
            " * sqlite:///D:\\dataset.sqlite\n",
            "Done.\n"
          ]
        },
        {
          "output_type": "execute_result",
          "data": {
            "text/plain": [
              "[('Pro', 146)]"
            ],
            "text/html": [
              "<table>\n",
              "    <tr>\n",
              "        <th>plan_type</th>\n",
              "        <th>num_subscriptions</th>\n",
              "    </tr>\n",
              "    <tr>\n",
              "        <td>Pro</td>\n",
              "        <td>146</td>\n",
              "    </tr>\n",
              "</table>"
            ]
          },
          "metadata": {},
          "execution_count": 99
        }
      ]
    },
    {
      "cell_type": "markdown",
      "source": [
        "There are 146 subscriptions and all are Pro plan type. 146 is equal to the number of paid members.\n",
        "\n",
        "Assumption: Only paid members show as subscriptions. Free users might be in a different table (such as a table showing free trials)."
      ],
      "metadata": {
        "id": "a3AhrQu3ArAl"
      }
    },
    {
      "cell_type": "code",
      "source": [
        "## Check assumption that users in `subscriptions` are the paid users from `users` table\n",
        "%%sql\n",
        "SELECT users.user_type,\n",
        "       COUNT(DISTINCT subs.subscription_id) as num_subscriptions\n",
        "FROM subscriptions as subs\n",
        "LEFT JOIN users on subs.user_id = users.user_id\n",
        "GROUP BY user_type\n",
        ";"
      ],
      "metadata": {
        "colab": {
          "base_uri": "https://localhost:8080/",
          "height": 95
        },
        "id": "tketaznzA-_R",
        "outputId": "3ddc5067-6636-4a81-b153-8b19b3532a73"
      },
      "execution_count": 100,
      "outputs": [
        {
          "output_type": "stream",
          "name": "stdout",
          "text": [
            " * sqlite:///D:\\dataset.sqlite\n",
            "Done.\n"
          ]
        },
        {
          "output_type": "execute_result",
          "data": {
            "text/plain": [
              "[('Paid', 146)]"
            ],
            "text/html": [
              "<table>\n",
              "    <tr>\n",
              "        <th>user_type</th>\n",
              "        <th>num_subscriptions</th>\n",
              "    </tr>\n",
              "    <tr>\n",
              "        <td>Paid</td>\n",
              "        <td>146</td>\n",
              "    </tr>\n",
              "</table>"
            ]
          },
          "metadata": {},
          "execution_count": 100
        }
      ]
    },
    {
      "cell_type": "markdown",
      "source": [
        "Assumption appears to be correct."
      ],
      "metadata": {
        "id": "ibt6X4Q-BfS-"
      }
    },
    {
      "cell_type": "code",
      "source": [
        "## How long does it usually take from a user signing up to subscribing?\n",
        "\n",
        "%%sql\n",
        "WITH days_to_sub AS (\n",
        "  SELECT users.user_id,\n",
        "         JULIANDAY(subs.start_date) - JULIANDAY(users.signup_date) as days_from_signup_to_subscribe\n",
        "  FROM subscriptions as subs\n",
        "  JOIN users on subs.user_id = users.user_id\n",
        ")\n",
        "\n",
        "SELECT ROUND(AVG(days_from_signup_to_subscribe),1) as avg_days_to_sub,\n",
        "       MIN(days_from_signup_to_subscribe) as min_days_to_sub,\n",
        "       MAX(days_from_signup_to_subscribe) as max_days_to_sub\n",
        "FROM days_to_sub\n",
        ";"
      ],
      "metadata": {
        "colab": {
          "base_uri": "https://localhost:8080/",
          "height": 95
        },
        "id": "O9OwPizQCAm1",
        "outputId": "28ccc365-f995-4f35-e81d-719d4bf8b119"
      },
      "execution_count": 101,
      "outputs": [
        {
          "output_type": "stream",
          "name": "stdout",
          "text": [
            " * sqlite:///D:\\dataset.sqlite\n",
            "Done.\n"
          ]
        },
        {
          "output_type": "execute_result",
          "data": {
            "text/plain": [
              "[(15.6, 1.0, 29.0)]"
            ],
            "text/html": [
              "<table>\n",
              "    <tr>\n",
              "        <th>avg_days_to_sub</th>\n",
              "        <th>min_days_to_sub</th>\n",
              "        <th>max_days_to_sub</th>\n",
              "    </tr>\n",
              "    <tr>\n",
              "        <td>15.6</td>\n",
              "        <td>1.0</td>\n",
              "        <td>29.0</td>\n",
              "    </tr>\n",
              "</table>"
            ]
          },
          "metadata": {},
          "execution_count": 101
        }
      ]
    },
    {
      "cell_type": "markdown",
      "source": [
        "SQLite doesn't have a built in median function, so skipping that for now. Normally I'd want to see how different the mean and median are to get an idea of the distribution and possible outliers. I am going to make a chart to look at this instead."
      ],
      "metadata": {
        "id": "6V406wegDwEa"
      }
    },
    {
      "cell_type": "code",
      "source": [
        "## How long does it usually take from a user signing up to subscribing?\n",
        "\n",
        "# Run the query and save results in dataframe\n",
        "query = \"\"\"\n",
        "WITH days_to_sub AS (\n",
        "  SELECT users.user_id,\n",
        "         JULIANDAY(subs.start_date) - JULIANDAY(users.signup_date) as days_from_signup_to_subscribe\n",
        "  FROM subscriptions as subs\n",
        "  JOIN users on subs.user_id = users.user_id\n",
        ")\n",
        "\n",
        "SELECT  days_from_signup_to_subscribe,\n",
        "        COUNT(DISTINCT user_id) as num_users\n",
        "FROM days_to_sub\n",
        "GROUP BY days_from_signup_to_subscribe\n",
        "ORDER BY days_from_signup_to_subscribe\n",
        ";\"\"\"\n",
        "\n",
        "result = %sql $query\n",
        "df_signups = pd.DataFrame(result)\n"
      ],
      "metadata": {
        "colab": {
          "base_uri": "https://localhost:8080/"
        },
        "id": "H3ko5HGiD9LJ",
        "outputId": "73de1c11-3a10-4580-e79c-01e3c59edde9"
      },
      "execution_count": 102,
      "outputs": [
        {
          "output_type": "stream",
          "name": "stdout",
          "text": [
            " * sqlite:///D:\\dataset.sqlite\n",
            "Done.\n"
          ]
        }
      ]
    },
    {
      "cell_type": "code",
      "source": [
        "# Create the chart\n",
        "plt.bar(df_signups.days_from_signup_to_subscribe, df_signups.num_users)\n",
        "\n",
        "# Add labels and title\n",
        "plt.xlabel(\"Days from signup to subscribe\")\n",
        "plt.ylabel(\"Number of users\")\n",
        "plt.title(\"How many days does it take for users to subscribe?\")\n",
        "\n",
        "# Show the plot\n",
        "plt.show()"
      ],
      "metadata": {
        "colab": {
          "base_uri": "https://localhost:8080/",
          "height": 472
        },
        "id": "zOP_o7HGJP8P",
        "outputId": "1eeb8ff4-b965-4b3a-b2ac-ea713a6ed4b9"
      },
      "execution_count": 103,
      "outputs": [
        {
          "output_type": "display_data",
          "data": {
            "text/plain": [
              "<Figure size 640x480 with 1 Axes>"
            ],
            "image/png": "[encoded data removed]"
          },
          "metadata": {}
        }
      ]
    },
    {
      "cell_type": "markdown",
      "source": [
        "It's pretty variable how long it takes to sign up. There are jumps on day 14 and 29.\n",
        "\n",
        "Assumption: There could be a free trial of 14 or 30 days and people sign up right before it ends. There is not enough information to verify this."
      ],
      "metadata": {
        "id": "0toBw-tBHQ-X"
      }
    },
    {
      "cell_type": "markdown",
      "source": [
        "If someone needs to sign up within 30 days, then I would look at how many Free users signed up less than 30 days ago. These are users that may still convert. It also gives an idea of churn (how many won't convert). We already saw that all these signups were from 2023, so there are none within the last 30 days."
      ],
      "metadata": {
        "id": "jBPsjLYuJDHB"
      }
    },
    {
      "cell_type": "code",
      "source": [
        "## How long do subscriptions typically last?\n",
        "%%sql\n",
        "\n",
        "WITH sub_length AS (\n",
        "    SELECT subscription_id,\n",
        "          JULIANDAY(end_date) - JULIANDAY(start_date) AS length_of_subscription_in_days\n",
        "    FROM subscriptions\n",
        ")\n",
        "\n",
        "SELECT avg(length_of_subscription_in_days) as avg_length_of_subscription_in_days,\n",
        "       min(length_of_subscription_in_days) as min_length_of_subscription_in_days,\n",
        "       max(length_of_subscription_in_days) as max_length_of_subscription_in_days\n",
        "FROM sub_length\n",
        ";"
      ],
      "metadata": {
        "colab": {
          "base_uri": "https://localhost:8080/",
          "height": 95
        },
        "id": "iwbf3b3UyRYI",
        "outputId": "65daad9c-484c-4da8-aad4-3c569669f049"
      },
      "execution_count": 104,
      "outputs": [
        {
          "output_type": "stream",
          "name": "stdout",
          "text": [
            " * sqlite:///D:\\dataset.sqlite\n",
            "Done.\n"
          ]
        },
        {
          "output_type": "execute_result",
          "data": {
            "text/plain": [
              "[(207.9931506849315, 32.0, 464.0)]"
            ],
            "text/html": [
              "<table>\n",
              "    <tr>\n",
              "        <th>avg_length_of_subscription_in_days</th>\n",
              "        <th>min_length_of_subscription_in_days</th>\n",
              "        <th>max_length_of_subscription_in_days</th>\n",
              "    </tr>\n",
              "    <tr>\n",
              "        <td>207.9931506849315</td>\n",
              "        <td>32.0</td>\n",
              "        <td>464.0</td>\n",
              "    </tr>\n",
              "</table>"
            ]
          },
          "metadata": {},
          "execution_count": 104
        }
      ]
    },
    {
      "cell_type": "markdown",
      "source": [
        "The average length of a subscription is 208 days (just under 7 months). However, the range is large, so there might be outliers impacting this. The minimum length is 32 days, which would be consistent with having to subscribe after 30 days (if someone signed up and canceled very shortly afterwards).\n",
        "\n",
        "I would need to understand more about the data to make an interpretation."
      ],
      "metadata": {
        "id": "1cuG0MfSyzdO"
      }
    },
    {
      "cell_type": "code",
      "source": [
        "## How long do subscriptions typically last?\n",
        "%%sql\n",
        "\n",
        "WITH sub_length AS (\n",
        "    SELECT subscription_id,\n",
        "          JULIANDAY(end_date) - JULIANDAY(start_date) AS length_of_subscription_in_days\n",
        "    FROM subscriptions\n",
        ")\n",
        "\n",
        "SELECT CASE WHEN length_of_subscription_in_days < 30 THEN 'Less than 30 days'\n",
        "            WHEN length_of_subscription_in_days BETWEEN 30 AND 59 THEN '30-59 days'\n",
        "            WHEN length_of_subscription_in_days BETWEEN 60 AND 89 THEN '60-89 days'\n",
        "            WHEN length_of_subscription_in_days BETWEEN 90 AND 119 THEN '90-119 days'\n",
        "            WHEN length_of_subscription_in_days >= 120 THEN '120 days or more'\n",
        "            ELSE null END AS length_of_subscription,\n",
        "       COUNT(DISTINCT subscription_id) as num_subscriptions\n",
        "FROM sub_length\n",
        "GROUP BY length_of_subscription\n",
        ";"
      ],
      "metadata": {
        "colab": {
          "base_uri": "https://localhost:8080/",
          "height": 158
        },
        "id": "Dba6Z9Ks58A_",
        "outputId": "32d72278-5074-4888-b9d6-513fc24725e1"
      },
      "execution_count": 105,
      "outputs": [
        {
          "output_type": "stream",
          "name": "stdout",
          "text": [
            " * sqlite:///D:\\dataset.sqlite\n",
            "Done.\n"
          ]
        },
        {
          "output_type": "execute_result",
          "data": {
            "text/plain": [
              "[('120 days or more', 95),\n",
              " ('30-59 days', 16),\n",
              " ('60-89 days', 14),\n",
              " ('90-119 days', 21)]"
            ],
            "text/html": [
              "<table>\n",
              "    <tr>\n",
              "        <th>length_of_subscription</th>\n",
              "        <th>num_subscriptions</th>\n",
              "    </tr>\n",
              "    <tr>\n",
              "        <td>120 days or more</td>\n",
              "        <td>95</td>\n",
              "    </tr>\n",
              "    <tr>\n",
              "        <td>30-59 days</td>\n",
              "        <td>16</td>\n",
              "    </tr>\n",
              "    <tr>\n",
              "        <td>60-89 days</td>\n",
              "        <td>14</td>\n",
              "    </tr>\n",
              "    <tr>\n",
              "        <td>90-119 days</td>\n",
              "        <td>21</td>\n",
              "    </tr>\n",
              "</table>"
            ]
          },
          "metadata": {},
          "execution_count": 105
        }
      ]
    },
    {
      "cell_type": "markdown",
      "source": [
        "It looks like users do have the option to cancel after 30 days based on the prior query (or possibly earlier, though there are no examples of that). However, it was uncommon for paid subscribers to cancel within the first 2 months. Of all paid subscriptions, 89% lasted at least 60 days.\n",
        "\n",
        "If I had more time to complete this exercise, this analysis could be more accurate by looking at the start date. If they signed up near the end of the time period, they would logically have a shorter subscription length."
      ],
      "metadata": {
        "id": "PEZW7aYVHbNy"
      }
    },
    {
      "cell_type": "markdown",
      "source": [
        "# Exploration of events data"
      ],
      "metadata": {
        "id": "zHWKSyhKJqtg"
      }
    },
    {
      "cell_type": "code",
      "source": [
        "## What event types do we have in the data?\n",
        "%%sql\n",
        "\n",
        "SELECT event_type,\n",
        "       COUNT(DISTINCT event_id) as num_events,\n",
        "       COUNT(DISTINCT user_id) as num_unique_users\n",
        "FROM events\n",
        "GROUP BY event_type\n",
        "ORDER BY num_events DESC;"
      ],
      "metadata": {
        "colab": {
          "base_uri": "https://localhost:8080/",
          "height": 179
        },
        "id": "9Fc9kUUeN2yI",
        "outputId": "3841ec21-b821-4879-e2ad-8ccc1820b3f0"
      },
      "execution_count": 106,
      "outputs": [
        {
          "output_type": "stream",
          "name": "stdout",
          "text": [
            " * sqlite:///D:\\dataset.sqlite\n",
            "Done.\n"
          ]
        },
        {
          "output_type": "execute_result",
          "data": {
            "text/plain": [
              "[('Invite User', 2758, 485),\n",
              " ('Upload Photo', 2677, 480),\n",
              " ('Share Photo', 2676, 487),\n",
              " ('Login', 2615, 485),\n",
              " ('View Photo', 2607, 481)]"
            ],
            "text/html": [
              "<table>\n",
              "    <tr>\n",
              "        <th>event_type</th>\n",
              "        <th>num_events</th>\n",
              "        <th>num_unique_users</th>\n",
              "    </tr>\n",
              "    <tr>\n",
              "        <td>Invite User</td>\n",
              "        <td>2758</td>\n",
              "        <td>485</td>\n",
              "    </tr>\n",
              "    <tr>\n",
              "        <td>Upload Photo</td>\n",
              "        <td>2677</td>\n",
              "        <td>480</td>\n",
              "    </tr>\n",
              "    <tr>\n",
              "        <td>Share Photo</td>\n",
              "        <td>2676</td>\n",
              "        <td>487</td>\n",
              "    </tr>\n",
              "    <tr>\n",
              "        <td>Login</td>\n",
              "        <td>2615</td>\n",
              "        <td>485</td>\n",
              "    </tr>\n",
              "    <tr>\n",
              "        <td>View Photo</td>\n",
              "        <td>2607</td>\n",
              "        <td>481</td>\n",
              "    </tr>\n",
              "</table>"
            ]
          },
          "metadata": {},
          "execution_count": 106
        }
      ]
    },
    {
      "cell_type": "markdown",
      "source": [
        "Roughly the same number of events and users for each type. I would have guessed that logging in would be the first event, but that doesn't appear to be true.\n",
        "\n",
        "If there were an inherent order of events, we may want to build a funnel here. For example, if logging in is the first step, then how many logged in, how many viewed the next screen, etc.?"
      ],
      "metadata": {
        "id": "XrNG4BqiOkvG"
      }
    },
    {
      "cell_type": "code",
      "source": [
        "## How many events did we track by month?\n",
        "\n",
        "%%sql\n",
        "SELECT DATE(event_timestamp, 'start of month') as event_month, -- Despite name, not a timestamp\n",
        "       COUNT(DISTINCT event_id) as num_events\n",
        "FROM events\n",
        "GROUP BY event_month\n",
        "ORDER BY event_month;"
      ],
      "metadata": {
        "colab": {
          "base_uri": "https://localhost:8080/",
          "height": 326
        },
        "id": "-Ff5G0l_PSRM",
        "outputId": "3404be30-1752-4505-9286-22a4fb4fa1d2"
      },
      "execution_count": 107,
      "outputs": [
        {
          "output_type": "stream",
          "name": "stdout",
          "text": [
            " * sqlite:///D:\\dataset.sqlite\n",
            "Done.\n"
          ]
        },
        {
          "output_type": "execute_result",
          "data": {
            "text/plain": [
              "[('2023-06-01', 179),\n",
              " ('2023-07-01', 550),\n",
              " ('2023-08-01', 890),\n",
              " ('2023-09-01', 1312),\n",
              " ('2023-10-01', 1822),\n",
              " ('2023-11-01', 2113),\n",
              " ('2023-12-01', 2025),\n",
              " ('2024-01-01', 1673),\n",
              " ('2024-02-01', 1273),\n",
              " ('2024-03-01', 932),\n",
              " ('2024-04-01', 474),\n",
              " ('2024-05-01', 90)]"
            ],
            "text/html": [
              "<table>\n",
              "    <tr>\n",
              "        <th>event_month</th>\n",
              "        <th>num_events</th>\n",
              "    </tr>\n",
              "    <tr>\n",
              "        <td>2023-06-01</td>\n",
              "        <td>179</td>\n",
              "    </tr>\n",
              "    <tr>\n",
              "        <td>2023-07-01</td>\n",
              "        <td>550</td>\n",
              "    </tr>\n",
              "    <tr>\n",
              "        <td>2023-08-01</td>\n",
              "        <td>890</td>\n",
              "    </tr>\n",
              "    <tr>\n",
              "        <td>2023-09-01</td>\n",
              "        <td>1312</td>\n",
              "    </tr>\n",
              "    <tr>\n",
              "        <td>2023-10-01</td>\n",
              "        <td>1822</td>\n",
              "    </tr>\n",
              "    <tr>\n",
              "        <td>2023-11-01</td>\n",
              "        <td>2113</td>\n",
              "    </tr>\n",
              "    <tr>\n",
              "        <td>2023-12-01</td>\n",
              "        <td>2025</td>\n",
              "    </tr>\n",
              "    <tr>\n",
              "        <td>2024-01-01</td>\n",
              "        <td>1673</td>\n",
              "    </tr>\n",
              "    <tr>\n",
              "        <td>2024-02-01</td>\n",
              "        <td>1273</td>\n",
              "    </tr>\n",
              "    <tr>\n",
              "        <td>2024-03-01</td>\n",
              "        <td>932</td>\n",
              "    </tr>\n",
              "    <tr>\n",
              "        <td>2024-04-01</td>\n",
              "        <td>474</td>\n",
              "    </tr>\n",
              "    <tr>\n",
              "        <td>2024-05-01</td>\n",
              "        <td>90</td>\n",
              "    </tr>\n",
              "</table>"
            ]
          },
          "metadata": {},
          "execution_count": 107
        }
      ]
    },
    {
      "cell_type": "markdown",
      "source": [
        "There was a ramp up period from June to September (perhaps as event tracking was being implemented). Then, it started declining around January. It is possible that the decision was made to track fewer events or perhaps a certain type of event was deprecated/combined.\n",
        "\n",
        "This is tangential to the main assignment, so I will not explore that further."
      ],
      "metadata": {
        "id": "b-IgQKQ1PwXa"
      }
    },
    {
      "cell_type": "code",
      "source": [
        "## How many events did Free and Paid users do?\n",
        "\n",
        "%%sql\n",
        "\n",
        "WITH events_by_user AS (\n",
        "  SELECT users.user_id,\n",
        "         users.user_type,\n",
        "         COUNT(DISTINCT events.event_id) as num_events,\n",
        "         COUNT(DISTINCT events.event_type) as num_types_of_events\n",
        "  FROM events\n",
        "  LEFT JOIN users on events.user_id = users.user_id\n",
        "  WHERE JULIANDAY(events.event_timestamp) - JULIANDAY(users.signup_date) < 30 --Login occurred within 30 days of signup\n",
        "  GROUP BY users.user_id,\n",
        "           users.user_type\n",
        ")\n",
        "\n",
        "SELECT user_type,\n",
        "       ROUND(AVG(num_events),1) as avg_events,\n",
        "       ROUND(AVG(num_types_of_events),1) as avg_num_types_of_events\n",
        "FROM events_by_user\n",
        "GROUP BY user_type\n"
      ],
      "metadata": {
        "colab": {
          "base_uri": "https://localhost:8080/",
          "height": 116
        },
        "id": "m-rHkVj9QAeQ",
        "outputId": "5353155c-727a-4590-f1bb-d581dc838598"
      },
      "execution_count": 108,
      "outputs": [
        {
          "output_type": "stream",
          "name": "stdout",
          "text": [
            " * sqlite:///D:\\dataset.sqlite\n",
            "Done.\n"
          ]
        },
        {
          "output_type": "execute_result",
          "data": {
            "text/plain": [
              "[('Free', 4.9, 3.0), ('Paid', 4.5, 2.9)]"
            ],
            "text/html": [
              "<table>\n",
              "    <tr>\n",
              "        <th>user_type</th>\n",
              "        <th>avg_events</th>\n",
              "        <th>avg_num_types_of_events</th>\n",
              "    </tr>\n",
              "    <tr>\n",
              "        <td>Free</td>\n",
              "        <td>4.9</td>\n",
              "        <td>3.0</td>\n",
              "    </tr>\n",
              "    <tr>\n",
              "        <td>Paid</td>\n",
              "        <td>4.5</td>\n",
              "        <td>2.9</td>\n",
              "    </tr>\n",
              "</table>"
            ]
          },
          "metadata": {},
          "execution_count": 108
        }
      ]
    },
    {
      "cell_type": "markdown",
      "source": [
        "To make things more apples to apples, I limited my analysis to only events that happened within the first 30 days of signup for both free and paid users. (Otherwise, paid users would likely be much higher. Also, paid user behavior may be inherently different when using the product for real as opposed to trying it out as a test.)\n",
        "\n",
        "Looking at the overall number of events, free users had a slightly higher average, though it might not be significant."
      ],
      "metadata": {
        "id": "feuWoFT-Q85A"
      }
    },
    {
      "cell_type": "code",
      "source": [
        "%%sql\n",
        "\n",
        "WITH events_30_days AS (\n",
        "  SELECT users.user_id,\n",
        "         users.user_type,\n",
        "         events.event_type,\n",
        "         COUNT(DISTINCT events.event_id) as num_events\n",
        "  FROM events\n",
        "  LEFT JOIN users on events.user_id = users.user_id\n",
        "  WHERE JULIANDAY(events.event_timestamp) - JULIANDAY(users.signup_date) < 30 --Login occurred within 30 days of signup\n",
        "  GROUP BY users.user_id,\n",
        "           users.user_type\n",
        ")\n",
        "\n",
        "\n",
        "SELECT user_type,\n",
        "       event_type,\n",
        "       SUM(num_events) as num_events,\n",
        "       DENSE_RANK() OVER (PARTITION BY user_type ORDER BY SUM(num_events) DESC) as rank\n",
        "FROM events_30_days\n",
        "GROUP BY user_type,\n",
        "         event_type\n",
        ";\n"
      ],
      "metadata": {
        "colab": {
          "base_uri": "https://localhost:8080/",
          "height": 284
        },
        "outputId": "7231e921-f1a1-4eba-f87e-7f48c8e09227",
        "id": "xF7dXk8fdrgr"
      },
      "execution_count": 109,
      "outputs": [
        {
          "output_type": "stream",
          "name": "stdout",
          "text": [
            " * sqlite:///D:\\dataset.sqlite\n",
            "Done.\n"
          ]
        },
        {
          "output_type": "execute_result",
          "data": {
            "text/plain": [
              "[('Free', 'Invite User', 399, 1),\n",
              " ('Free', 'Upload Photo', 348, 2),\n",
              " ('Free', 'Login', 340, 3),\n",
              " ('Free', 'View Photo', 294, 4),\n",
              " ('Free', 'Share Photo', 274, 5),\n",
              " ('Paid', 'Upload Photo', 168, 1),\n",
              " ('Paid', 'Invite User', 127, 2),\n",
              " ('Paid', 'Login', 126, 3),\n",
              " ('Paid', 'Share Photo', 111, 4),\n",
              " ('Paid', 'View Photo', 97, 5)]"
            ],
            "text/html": [
              "<table>\n",
              "    <tr>\n",
              "        <th>user_type</th>\n",
              "        <th>event_type</th>\n",
              "        <th>num_events</th>\n",
              "        <th>rank</th>\n",
              "    </tr>\n",
              "    <tr>\n",
              "        <td>Free</td>\n",
              "        <td>Invite User</td>\n",
              "        <td>399</td>\n",
              "        <td>1</td>\n",
              "    </tr>\n",
              "    <tr>\n",
              "        <td>Free</td>\n",
              "        <td>Upload Photo</td>\n",
              "        <td>348</td>\n",
              "        <td>2</td>\n",
              "    </tr>\n",
              "    <tr>\n",
              "        <td>Free</td>\n",
              "        <td>Login</td>\n",
              "        <td>340</td>\n",
              "        <td>3</td>\n",
              "    </tr>\n",
              "    <tr>\n",
              "        <td>Free</td>\n",
              "        <td>View Photo</td>\n",
              "        <td>294</td>\n",
              "        <td>4</td>\n",
              "    </tr>\n",
              "    <tr>\n",
              "        <td>Free</td>\n",
              "        <td>Share Photo</td>\n",
              "        <td>274</td>\n",
              "        <td>5</td>\n",
              "    </tr>\n",
              "    <tr>\n",
              "        <td>Paid</td>\n",
              "        <td>Upload Photo</td>\n",
              "        <td>168</td>\n",
              "        <td>1</td>\n",
              "    </tr>\n",
              "    <tr>\n",
              "        <td>Paid</td>\n",
              "        <td>Invite User</td>\n",
              "        <td>127</td>\n",
              "        <td>2</td>\n",
              "    </tr>\n",
              "    <tr>\n",
              "        <td>Paid</td>\n",
              "        <td>Login</td>\n",
              "        <td>126</td>\n",
              "        <td>3</td>\n",
              "    </tr>\n",
              "    <tr>\n",
              "        <td>Paid</td>\n",
              "        <td>Share Photo</td>\n",
              "        <td>111</td>\n",
              "        <td>4</td>\n",
              "    </tr>\n",
              "    <tr>\n",
              "        <td>Paid</td>\n",
              "        <td>View Photo</td>\n",
              "        <td>97</td>\n",
              "        <td>5</td>\n",
              "    </tr>\n",
              "</table>"
            ]
          },
          "metadata": {},
          "execution_count": 109
        }
      ]
    },
    {
      "cell_type": "markdown",
      "source": [
        "Uploading photos was the most common event for those who subscribed, while inviting users was most common for free users."
      ],
      "metadata": {
        "id": "8quRLVMwUc3u"
      }
    },
    {
      "cell_type": "code",
      "source": [
        "## Did event types change before and after subscribing?\n",
        "\n",
        "%%sql\n",
        "SELECT CASE WHEN event_timestamp >= start_date THEN 'On or after sub date'\n",
        "            WHEN event_timestamp < start_date THEN 'Before sub date'\n",
        "            ELSE null END AS event_timing,\n",
        "       event_type,\n",
        "       COUNT(DISTINCT event_id) as num_events\n",
        "FROM events\n",
        "INNER JOIN subscriptions on events.user_id = subscriptions.user_id\n",
        "GROUP BY event_timing, event_type\n",
        "ORDER BY event_timing, num_events DESC;"
      ],
      "metadata": {
        "colab": {
          "base_uri": "https://localhost:8080/",
          "height": 284
        },
        "id": "GKF1T7IRNODE",
        "outputId": "9103f6c1-33b5-4ec4-9db1-0c6723318993"
      },
      "execution_count": 110,
      "outputs": [
        {
          "output_type": "stream",
          "name": "stdout",
          "text": [
            " * sqlite:///D:\\dataset.sqlite\n",
            "Done.\n"
          ]
        },
        {
          "output_type": "execute_result",
          "data": {
            "text/plain": [
              "[('Before sub date', 'Upload Photo', 71),\n",
              " ('Before sub date', 'Invite User', 71),\n",
              " ('Before sub date', 'Login', 67),\n",
              " ('Before sub date', 'Share Photo', 65),\n",
              " ('Before sub date', 'View Photo', 62),\n",
              " ('On or after sub date', 'Invite User', 725),\n",
              " ('On or after sub date', 'Share Photo', 723),\n",
              " ('On or after sub date', 'Login', 718),\n",
              " ('On or after sub date', 'View Photo', 713),\n",
              " ('On or after sub date', 'Upload Photo', 711)]"
            ],
            "text/html": [
              "<table>\n",
              "    <tr>\n",
              "        <th>event_timing</th>\n",
              "        <th>event_type</th>\n",
              "        <th>num_events</th>\n",
              "    </tr>\n",
              "    <tr>\n",
              "        <td>Before sub date</td>\n",
              "        <td>Upload Photo</td>\n",
              "        <td>71</td>\n",
              "    </tr>\n",
              "    <tr>\n",
              "        <td>Before sub date</td>\n",
              "        <td>Invite User</td>\n",
              "        <td>71</td>\n",
              "    </tr>\n",
              "    <tr>\n",
              "        <td>Before sub date</td>\n",
              "        <td>Login</td>\n",
              "        <td>67</td>\n",
              "    </tr>\n",
              "    <tr>\n",
              "        <td>Before sub date</td>\n",
              "        <td>Share Photo</td>\n",
              "        <td>65</td>\n",
              "    </tr>\n",
              "    <tr>\n",
              "        <td>Before sub date</td>\n",
              "        <td>View Photo</td>\n",
              "        <td>62</td>\n",
              "    </tr>\n",
              "    <tr>\n",
              "        <td>On or after sub date</td>\n",
              "        <td>Invite User</td>\n",
              "        <td>725</td>\n",
              "    </tr>\n",
              "    <tr>\n",
              "        <td>On or after sub date</td>\n",
              "        <td>Share Photo</td>\n",
              "        <td>723</td>\n",
              "    </tr>\n",
              "    <tr>\n",
              "        <td>On or after sub date</td>\n",
              "        <td>Login</td>\n",
              "        <td>718</td>\n",
              "    </tr>\n",
              "    <tr>\n",
              "        <td>On or after sub date</td>\n",
              "        <td>View Photo</td>\n",
              "        <td>713</td>\n",
              "    </tr>\n",
              "    <tr>\n",
              "        <td>On or after sub date</td>\n",
              "        <td>Upload Photo</td>\n",
              "        <td>711</td>\n",
              "    </tr>\n",
              "</table>"
            ]
          },
          "metadata": {},
          "execution_count": 110
        }
      ]
    },
    {
      "cell_type": "markdown",
      "source": [
        "For users who went on to subscribe, the most common events changed in terms of ranking. However, the event types are still very evenly split, so this is likely not too meaningful of a difference."
      ],
      "metadata": {
        "id": "0r-bkpQsPAG5"
      }
    },
    {
      "cell_type": "code",
      "source": [
        "## Did average number of logins differ by `user_type`?\n",
        "\n",
        "%%sql\n",
        "\n",
        "WITH logins AS (\n",
        "  SELECT users.user_id,\n",
        "         users.user_type,\n",
        "         COUNT(DISTINCT events.event_id) as num_logins\n",
        "  FROM events\n",
        "  LEFT JOIN users on events.user_id = users.user_id\n",
        "  WHERE event_type = 'Login'\n",
        "  AND JULIANDAY(events.event_timestamp) - JULIANDAY(users.signup_date) < 30 --Login occurred within 30 days of signup\n",
        "  GROUP BY users.user_id,\n",
        "           users.user_type\n",
        ")\n",
        "\n",
        "\n",
        "SELECT user_type,\n",
        "       ROUND(AVG(num_logins),1) as avg_logins\n",
        "FROM logins\n",
        "GROUP BY user_type\n",
        ";"
      ],
      "metadata": {
        "colab": {
          "base_uri": "https://localhost:8080/",
          "height": 116
        },
        "id": "nWCT8FnYaXcZ",
        "outputId": "13ccd2e3-8573-49de-83d6-93885a46b282"
      },
      "execution_count": 111,
      "outputs": [
        {
          "output_type": "stream",
          "name": "stdout",
          "text": [
            " * sqlite:///D:\\dataset.sqlite\n",
            "Done.\n"
          ]
        },
        {
          "output_type": "execute_result",
          "data": {
            "text/plain": [
              "[('Free', 1.6), ('Paid', 1.6)]"
            ],
            "text/html": [
              "<table>\n",
              "    <tr>\n",
              "        <th>user_type</th>\n",
              "        <th>avg_logins</th>\n",
              "    </tr>\n",
              "    <tr>\n",
              "        <td>Free</td>\n",
              "        <td>1.6</td>\n",
              "    </tr>\n",
              "    <tr>\n",
              "        <td>Paid</td>\n",
              "        <td>1.6</td>\n",
              "    </tr>\n",
              "</table>"
            ]
          },
          "metadata": {},
          "execution_count": 111
        }
      ]
    },
    {
      "cell_type": "markdown",
      "source": [
        "Looking at both types of users, the average number of logins was the same within the first 30 days of sign up."
      ],
      "metadata": {
        "id": "hBXb47fUddCI"
      }
    },
    {
      "cell_type": "markdown",
      "source": [
        "# SQL Challenge"
      ],
      "metadata": {
        "id": "cReXlyXeftQW"
      }
    },
    {
      "cell_type": "markdown",
      "source": [
        "### Write a SQL query to calculate the retention rate of users who signed up in the last three months of the max start_date."
      ],
      "metadata": {
        "id": "giBXnFG-fzq3"
      }
    },
    {
      "cell_type": "markdown",
      "source": [
        "This question is open for interpretation. For instance, does \"signed up\" mean created an account or started a subscription? The latter makes more sense from a business perspective, such as how many paid customers who subscribed in this time were still active on the end date?\n",
        "\n",
        "I interpreted this question to mean I should:\n",
        "* Find the most recent subscription date recorded overall in the table\n",
        "* Pull a cohort of users who started a subscription in the 90 day period prior to (and including) that date\n",
        "* Count how many still had a subscription as of the max date"
      ],
      "metadata": {
        "id": "WhpL1MNz_oMF"
      }
    },
    {
      "cell_type": "code",
      "source": [
        "# First, find the max `start_date` for the whole table. Then, look at users who signed up in the 90 days period prior to and including that date.\n",
        "# How many still had a subscription at the end of that time (i.e., their `end_date` had not passed)?\n",
        "%%sql\n",
        "\n",
        "WITH subscription_dates AS (\n",
        "  SELECT subscription_id,\n",
        "         user_id,\n",
        "         start_date,\n",
        "         end_date,\n",
        "         MAX(start_date) OVER () as max_start_date_for_table\n",
        "  FROM subscriptions\n",
        "  GROUP BY subscription_id,\n",
        "        user_id,\n",
        "        start_date,\n",
        "        end_date\n",
        ")\n",
        "\n",
        "SELECT CASE WHEN end_date > max_start_date_for_table THEN TRUE ELSE FALSE END AS had_active_sub_at_end_of_period,\n",
        "       COUNT(DISTINCT user_id) as num_users\n",
        "FROM subscription_dates\n",
        "WHERE JULIANDAY(max_start_date_for_table) - JULIANDAY(start_date) <= 90 -- Subscription started within last 3 months\n",
        "GROUP BY had_active_sub_at_end_of_period\n",
        ";"
      ],
      "metadata": {
        "colab": {
          "base_uri": "https://localhost:8080/",
          "height": 116
        },
        "id": "nuZIjY8vfr0z",
        "outputId": "b2c1a6bd-3d95-48e2-90f8-972316857dd7"
      },
      "execution_count": 112,
      "outputs": [
        {
          "output_type": "stream",
          "name": "stdout",
          "text": [
            " * sqlite:///D:\\dataset.sqlite\n",
            "Done.\n"
          ]
        },
        {
          "output_type": "execute_result",
          "data": {
            "text/plain": [
              "[(0, 4), (1, 50)]"
            ],
            "text/html": [
              "<table>\n",
              "    <tr>\n",
              "        <th>had_active_sub_at_end_of_period</th>\n",
              "        <th>num_users</th>\n",
              "    </tr>\n",
              "    <tr>\n",
              "        <td>0</td>\n",
              "        <td>4</td>\n",
              "    </tr>\n",
              "    <tr>\n",
              "        <td>1</td>\n",
              "        <td>50</td>\n",
              "    </tr>\n",
              "</table>"
            ]
          },
          "metadata": {},
          "execution_count": 112
        }
      ]
    },
    {
      "cell_type": "markdown",
      "source": [
        "54 users started a subscription in this time period and only 4 churned by the end of the timeframe. That is a 92% retention rate."
      ],
      "metadata": {
        "id": "M1eMxmb8FZeP"
      }
    },
    {
      "cell_type": "markdown",
      "source": [
        "A total of 181 users signed up in this three month timespan. 44 became paid users, so the retention rate is 24%."
      ],
      "metadata": {
        "id": "q0OTHZe6g5-I"
      }
    },
    {
      "cell_type": "markdown",
      "source": [
        "### Write a query to find the top three most frequently used features in the platform."
      ],
      "metadata": {
        "id": "3NdP89yWiCDL"
      }
    },
    {
      "cell_type": "code",
      "source": [
        "%%sql\n",
        "\n",
        "WITH event_counts AS (\n",
        "  SELECT event_type,\n",
        "         COUNT(DISTINCT event_id) as num_events\n",
        "  FROM events\n",
        "  GROUP BY events.event_type\n",
        ")\n",
        "\n",
        "\n",
        "SELECT event_type,\n",
        "       DENSE_RANK() OVER (ORDER BY num_events DESC) as event_rank\n",
        "FROM event_counts\n",
        "GROUP BY event_type\n",
        "ORDER BY event_rank\n",
        "LIMIT 3\n",
        ";"
      ],
      "metadata": {
        "colab": {
          "base_uri": "https://localhost:8080/",
          "height": 137
        },
        "id": "bRWjUE7aiG7L",
        "outputId": "3f4a8317-1114-48bb-ddca-ab990d0ca80e"
      },
      "execution_count": 113,
      "outputs": [
        {
          "output_type": "stream",
          "name": "stdout",
          "text": [
            " * sqlite:///D:\\dataset.sqlite\n",
            "Done.\n"
          ]
        },
        {
          "output_type": "execute_result",
          "data": {
            "text/plain": [
              "[('Invite User', 1), ('Upload Photo', 2), ('Share Photo', 3)]"
            ],
            "text/html": [
              "<table>\n",
              "    <tr>\n",
              "        <th>event_type</th>\n",
              "        <th>event_rank</th>\n",
              "    </tr>\n",
              "    <tr>\n",
              "        <td>Invite User</td>\n",
              "        <td>1</td>\n",
              "    </tr>\n",
              "    <tr>\n",
              "        <td>Upload Photo</td>\n",
              "        <td>2</td>\n",
              "    </tr>\n",
              "    <tr>\n",
              "        <td>Share Photo</td>\n",
              "        <td>3</td>\n",
              "    </tr>\n",
              "</table>"
            ]
          },
          "metadata": {},
          "execution_count": 113
        }
      ]
    },
    {
      "cell_type": "markdown",
      "source": [
        "See Summary document for more information, including Experimentation and Data-Driven Recommendations."
      ],
      "metadata": {
        "id": "xQW1wMXvjJfn"
      }
    }
  ]
}